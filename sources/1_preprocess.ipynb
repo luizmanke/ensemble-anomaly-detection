{
 "cells": [
  {
   "cell_type": "markdown",
   "id": "3c015d35-8bc4-4446-87bf-a688d09b0168",
   "metadata": {},
   "source": [
    "# Preprocess Datasets"
   ]
  },
  {
   "cell_type": "code",
   "execution_count": 25,
   "id": "5dea6273-26f4-4e95-9cff-e9e2bc4031fd",
   "metadata": {},
   "outputs": [],
   "source": [
    "# Import modules\n",
    "\n",
    "import pandas as pd\n",
    "import pickle"
   ]
  },
  {
   "cell_type": "code",
   "execution_count": 14,
   "id": "9a13e6bb-c3ce-4cac-b237-359149dd5283",
   "metadata": {},
   "outputs": [],
   "source": [
    "# Global variables\n",
    "\n",
    "DATASETS_PATH = '../datasets'"
   ]
  },
  {
   "cell_type": "markdown",
   "id": "dd2cffab-db8f-4f95-90ad-735a2fd5b9fa",
   "metadata": {},
   "source": [
    "## 1 Turbofan Engines"
   ]
  },
  {
   "cell_type": "code",
   "execution_count": 22,
   "id": "e118c5a6-f7f2-4f72-9016-7d3da5716efb",
   "metadata": {},
   "outputs": [
    {
     "name": "stdout",
     "output_type": "stream",
     "text": [
      "dataframe 0: (20631, 26)\n",
      "dataframe 1: (53759, 26)\n",
      "dataframe 2: (24720, 26)\n",
      "dataframe 3: (61249, 26)\n"
     ]
    }
   ],
   "source": [
    "# Load files\n",
    "\n",
    "TURBOFAN_FILES = ['train_FD001', 'train_FD002', 'train_FD003', 'train_FD004']\n",
    "\n",
    "turbofan_dataframes = []\n",
    "for i, file_name in enumerate(TURBOFAN_FILES):\n",
    "    dataframe = pd.read_csv(\n",
    "        f'{DATASETS_PATH}/Turbofan Engines/original/{file_name}.txt',\n",
    "        sep='\\\\s',\n",
    "        header=None,\n",
    "        engine='python'\n",
    "    )\n",
    "    turbofan_dataframes.append(dataframe)\n",
    "    print(f'dataframe {i}: {dataframe.shape}')"
   ]
  },
  {
   "cell_type": "code",
   "execution_count": 23,
   "id": "a2d7889a-1f85-4d81-b7e4-586418d04408",
   "metadata": {},
   "outputs": [
    {
     "name": "stdout",
     "output_type": "stream",
     "text": [
      "number of cases: 709\n"
     ]
    }
   ],
   "source": [
    "# Create cases\n",
    "\n",
    "turbofan_cases, turbofan_labels = [], []\n",
    "for dataframe in turbofan_dataframes:\n",
    "    dataframe = dataframe.copy()\n",
    "\n",
    "    engines = dataframe.pop(0)\n",
    "    for engine_number in set(engines):\n",
    "\n",
    "        subset = engines[engines == engine_number]\n",
    "        new_case = dataframe.loc[subset.index, :]\n",
    "        new_case = new_case.sort_values(1)\n",
    "        new_case = new_case.drop(1, axis=1)\n",
    "        new_case = new_case.reset_index(drop=True)\n",
    "        new_case.columns = range(new_case.shape[1])\n",
    "\n",
    "        turbofan_cases.append(new_case)\n",
    "        turbofan_labels.append(1)\n",
    "\n",
    "print(f'number of cases: {len(turbofan_cases)}')"
   ]
  },
  {
   "cell_type": "code",
   "execution_count": 27,
   "id": "bd6f3ecd-6585-43e4-afee-0712e07ea743",
   "metadata": {},
   "outputs": [],
   "source": [
    "# Save processes data\n",
    "\n",
    "with open(f'{DATASETS_PATH}/Turbofan Engines/processed/cases.pkl', 'wb') as file:\n",
    "    pickle.dump(turbofan_cases, file)\n",
    "\n",
    "with open(f'{DATASETS_PATH}/Turbofan Engines/processed/labels.pkl', 'wb') as file:\n",
    "    pickle.dump(turbofan_labels, file)"
   ]
  }
 ],
 "metadata": {
  "kernelspec": {
   "display_name": "Python 3",
   "language": "python",
   "name": "python3"
  },
  "language_info": {
   "codemirror_mode": {
    "name": "ipython",
    "version": 3
   },
   "file_extension": ".py",
   "mimetype": "text/x-python",
   "name": "python",
   "nbconvert_exporter": "python",
   "pygments_lexer": "ipython3",
   "version": "3.8.2"
  }
 },
 "nbformat": 4,
 "nbformat_minor": 5
}
