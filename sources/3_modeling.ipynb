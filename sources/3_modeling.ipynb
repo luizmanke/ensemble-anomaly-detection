{
 "cells": [
  {
   "cell_type": "markdown",
   "id": "6c647e24-81fd-4ff9-93e7-567eebb95c80",
   "metadata": {},
   "source": [
    "# Modeling"
   ]
  },
  {
   "cell_type": "code",
   "execution_count": 1,
   "id": "3c5e39b6-9f32-4d17-aeab-44a2ea840ca8",
   "metadata": {},
   "outputs": [],
   "source": [
    "# Import modules\n",
    "\n",
    "import estimators\n",
    "import evaluator\n",
    "import matplotlib.pyplot as plt\n",
    "import numpy as np\n",
    "import pandas as pd\n",
    "import pickle\n",
    "import seaborn as sns\n",
    "import warnings\n",
    "from copy import deepcopy\n",
    "from joblib import delayed, Parallel\n",
    "from samples_generator import SelfAdaptiveShifting\n",
    "from sklearn.metrics import fbeta_score\n",
    "from sklearn.preprocessing import StandardScaler"
   ]
  },
  {
   "cell_type": "code",
   "execution_count": 2,
   "id": "32be1661-8019-4082-ae81-bf84f68e004f",
   "metadata": {},
   "outputs": [],
   "source": [
    "# Configurations\n",
    "\n",
    "np.random.seed(1)\n",
    "warnings.filterwarnings('ignore')"
   ]
  },
  {
   "cell_type": "code",
   "execution_count": 3,
   "id": "fa884462-bc71-4b2a-8c3d-7952f714d2e5",
   "metadata": {},
   "outputs": [],
   "source": [
    "# Global variables\n",
    "\n",
    "DATASETS_PATH = '../datasets'\n",
    "ESTIMATORS = [\n",
    "    'k-Nearest Neighbors',\n",
    "    'Local Outlier Factor',\n",
    "    'One-Class SVM'\n",
    "]"
   ]
  },
  {
   "cell_type": "code",
   "execution_count": 4,
   "id": "c6a9b301-abb3-4b90-a8a5-2385e6f4a29e",
   "metadata": {},
   "outputs": [
    {
     "name": "stdout",
     "output_type": "stream",
     "text": [
      "number of cases: 709\n"
     ]
    }
   ],
   "source": [
    "# Load data\n",
    "\n",
    "with open(f'{DATASETS_PATH}/Turbofan Engines/processed/cases.pkl', 'rb') as file:\n",
    "    cases = pickle.load(file)\n",
    "with open(f'{DATASETS_PATH}/Turbofan Engines/processed/labels.pkl', 'rb') as file:\n",
    "    labels = pickle.load(file)\n",
    "\n",
    "print(f'number of cases: {len(cases)}')"
   ]
  },
  {
   "cell_type": "code",
   "execution_count": 5,
   "id": "7ad134d5-6617-409e-ac50-7ce9af6eb736",
   "metadata": {},
   "outputs": [],
   "source": [
    "# Split data\n",
    "\n",
    "MINIMUM_SAMPLES = 80\n",
    "\n",
    "cases_split = []\n",
    "for case, label in zip(cases, labels):\n",
    "    cases_split.append({\n",
    "        'all': case,\n",
    "        'train': case[:MINIMUM_SAMPLES],\n",
    "        'label': label\n",
    "    })"
   ]
  },
  {
   "cell_type": "code",
   "execution_count": 6,
   "id": "7917d5d5-a995-4fc5-8638-7776451bc4a2",
   "metadata": {},
   "outputs": [],
   "source": [
    "# Normalize data\n",
    "\n",
    "cases_norm = []\n",
    "for case in cases_split:\n",
    "    scaler = StandardScaler()\n",
    "    cases_norm.append({\n",
    "        'train': scaler.fit_transform(case['train']),\n",
    "        'all': scaler.transform(case['all']),\n",
    "        'label': case['label']\n",
    "    })"
   ]
  },
  {
   "cell_type": "code",
   "execution_count": 7,
   "id": "dab648ac-f43a-426d-97c4-3f7a72a2191f",
   "metadata": {},
   "outputs": [],
   "source": [
    "# Create pseudo samples\n",
    "\n",
    "cases_pseudo = deepcopy(cases_norm)\n",
    "for case in cases_pseudo:\n",
    "\n",
    "    generator = SelfAdaptiveShifting(case['train'])\n",
    "    generator.edge_pattern_detection()\n",
    "\n",
    "    x_outliers = generator.generate_pseudo_outliers()\n",
    "    y_outliers = np.ones(len(x_outliers))\n",
    "\n",
    "    x_targets = generator.generate_pseudo_targets()\n",
    "    y_targets = np.zeros(len(x_targets))\n",
    "\n",
    "    case['pseudo_data'] = np.concatenate([x_outliers, x_targets])\n",
    "    case['pseudo_labels'] = np.concatenate([y_outliers, y_targets])"
   ]
  },
  {
   "cell_type": "code",
   "execution_count": 8,
   "id": "105311c7-6b6d-42fa-85ab-b87d4d7e8559",
   "metadata": {},
   "outputs": [
    {
     "name": "stderr",
     "output_type": "stream",
     "text": [
      "[Parallel(n_jobs=-1)]: Using backend LokyBackend with 4 concurrent workers.\n",
      "[Parallel(n_jobs=-1)]: Done   5 tasks      | elapsed:  2.0min\n",
      "[Parallel(n_jobs=-1)]: Done  10 tasks      | elapsed:  3.1min\n",
      "[Parallel(n_jobs=-1)]: Done  17 tasks      | elapsed:  4.8min\n",
      "[Parallel(n_jobs=-1)]: Done  24 tasks      | elapsed:  6.1min\n",
      "[Parallel(n_jobs=-1)]: Done  33 tasks      | elapsed:  8.7min\n",
      "[Parallel(n_jobs=-1)]: Done  42 tasks      | elapsed: 10.7min\n",
      "[Parallel(n_jobs=-1)]: Done  53 tasks      | elapsed: 13.2min\n",
      "[Parallel(n_jobs=-1)]: Done  64 tasks      | elapsed: 15.6min\n",
      "[Parallel(n_jobs=-1)]: Done  77 tasks      | elapsed: 18.7min\n",
      "[Parallel(n_jobs=-1)]: Done  90 tasks      | elapsed: 21.4min\n",
      "[Parallel(n_jobs=-1)]: Done 105 tasks      | elapsed: 24.6min\n",
      "[Parallel(n_jobs=-1)]: Done 120 tasks      | elapsed: 28.0min\n",
      "[Parallel(n_jobs=-1)]: Done 137 tasks      | elapsed: 31.4min\n",
      "[Parallel(n_jobs=-1)]: Done 154 tasks      | elapsed: 35.1min\n",
      "[Parallel(n_jobs=-1)]: Done 173 tasks      | elapsed: 38.8min\n",
      "[Parallel(n_jobs=-1)]: Done 192 tasks      | elapsed: 42.8min\n",
      "[Parallel(n_jobs=-1)]: Done 213 tasks      | elapsed: 47.3min\n",
      "[Parallel(n_jobs=-1)]: Done 234 tasks      | elapsed: 51.7min\n",
      "[Parallel(n_jobs=-1)]: Done 257 tasks      | elapsed: 56.3min\n",
      "[Parallel(n_jobs=-1)]: Done 280 tasks      | elapsed: 60.8min\n",
      "[Parallel(n_jobs=-1)]: Done 305 tasks      | elapsed: 66.5min\n",
      "[Parallel(n_jobs=-1)]: Done 330 tasks      | elapsed: 71.6min\n",
      "[Parallel(n_jobs=-1)]: Done 357 tasks      | elapsed: 77.1min\n",
      "[Parallel(n_jobs=-1)]: Done 384 tasks      | elapsed: 82.8min\n",
      "[Parallel(n_jobs=-1)]: Done 413 tasks      | elapsed: 89.2min\n",
      "[Parallel(n_jobs=-1)]: Done 442 tasks      | elapsed: 95.6min\n",
      "[Parallel(n_jobs=-1)]: Done 473 tasks      | elapsed: 101.9min\n",
      "[Parallel(n_jobs=-1)]: Done 504 tasks      | elapsed: 108.4min\n",
      "[Parallel(n_jobs=-1)]: Done 537 tasks      | elapsed: 115.5min\n",
      "[Parallel(n_jobs=-1)]: Done 570 tasks      | elapsed: 122.7min\n",
      "[Parallel(n_jobs=-1)]: Done 605 tasks      | elapsed: 129.8min\n",
      "[Parallel(n_jobs=-1)]: Done 640 tasks      | elapsed: 137.5min\n",
      "[Parallel(n_jobs=-1)]: Done 677 tasks      | elapsed: 147.5min\n",
      "[Parallel(n_jobs=-1)]: Done 709 out of 709 | elapsed: 154.0min finished\n"
     ]
    }
   ],
   "source": [
    "# Train models\n",
    "\n",
    "def _compute_case(case):\n",
    "    CONFIG = estimators.CONFIG\n",
    "\n",
    "    case['estimators'] = {}\n",
    "    for estimator in ESTIMATORS:\n",
    "        item = CONFIG[estimator]\n",
    "\n",
    "        clf = evaluator.Evaluator(\n",
    "            x_test=case['pseudo_data'],\n",
    "            y_test=case['pseudo_labels']\n",
    "        )\n",
    "\n",
    "        # train\n",
    "        clf.train(\n",
    "            estimator=item['estimator'],\n",
    "            params=item['params'],\n",
    "            x_train=case['train']\n",
    "        )\n",
    "\n",
    "        # predict each timestamp\n",
    "        y_pred = clf.predict(case['all'])\n",
    "\n",
    "        case['estimators'][estimator] = {'y_pred': y_pred}\n",
    "            \n",
    "    return case\n",
    "\n",
    "results = Parallel(n_jobs=-1, verbose=10)(\n",
    "    delayed(_compute_case)(case) for case in cases_pseudo)"
   ]
  },
  {
   "cell_type": "code",
   "execution_count": 9,
   "id": "d7842fda-4110-41a9-9f1e-15259dfa33ad",
   "metadata": {},
   "outputs": [],
   "source": [
    "# Verify is cases had significant abnormalities\n",
    "\n",
    "THRESHOLD = 0.5\n",
    "\n",
    "for case in results:\n",
    "    for key, item in case['estimators'].items():\n",
    "\n",
    "        # Find anomalies\n",
    "        df_pred = pd.DataFrame(item['y_pred'])\n",
    "        df_pred_mean = df_pred.rolling(window=20).mean()\n",
    "        anomalies = df_pred_mean[df_pred_mean > THRESHOLD]\n",
    "        anomalies = anomalies.dropna()\n",
    "\n",
    "        # Compute remaining useful life\n",
    "        had_anomaly = False\n",
    "        remaining_life = None\n",
    "        if not anomalies.empty:\n",
    "            had_anomaly = True\n",
    "            anomaly_index = anomalies.index[0]\n",
    "            remaining_life = 1 - (anomaly_index / len(df_pred))\n",
    "\n",
    "        item['had_anomaly'] = had_anomaly\n",
    "        item['remaining_life'] = remaining_life"
   ]
  },
  {
   "cell_type": "code",
   "execution_count": 10,
   "id": "2bc2b7e6-5313-41f0-87ff-43843db112ce",
   "metadata": {},
   "outputs": [],
   "source": [
    "# Evaluate performances\n",
    "\n",
    "performances = {}\n",
    "for estimator in ESTIMATORS:\n",
    "\n",
    "    # Compute score\n",
    "    y_true = [x['label'] for x in results]\n",
    "    y_pred = [x['estimators'][estimator]['had_anomaly'] for x in results]\n",
    "    score = fbeta_score(y_true, y_pred, beta=evaluator.BETA)\n",
    "\n",
    "    # Concatenate remaining life\n",
    "    remaining_life = [\n",
    "        x['estimators'][estimator]['remaining_life'] for x in results\n",
    "        if x['estimators'][estimator]['had_anomaly'] == True\n",
    "    ]\n",
    "\n",
    "    performances[estimator] = {\n",
    "        'score': score,\n",
    "        'remaining_life': remaining_life\n",
    "    }"
   ]
  },
  {
   "cell_type": "code",
   "execution_count": 11,
   "id": "c888c154-b8d4-4c61-aab2-41d8e21c79d1",
   "metadata": {},
   "outputs": [],
   "source": [
    "# Save results\n",
    "\n",
    "saved_performances = deepcopy(performances)\n",
    "for estimator, performance in saved_performances.items():\n",
    "    with open(f'../results/{estimator}.pkl', 'wb') as file:\n",
    "        pickle.dump(performance, file)"
   ]
  },
  {
   "cell_type": "code",
   "execution_count": 12,
   "id": "76e79b4b-80ba-4b2b-8f12-315967d1c741",
   "metadata": {},
   "outputs": [],
   "source": [
    "# Load results\n",
    "\n",
    "loaded_performances = {}\n",
    "for estimator in ESTIMATORS:\n",
    "    with open(f'../results/{estimator}.pkl', 'rb') as file:\n",
    "        loaded_performances[estimator] = pickle.load(file)"
   ]
  },
  {
   "cell_type": "code",
   "execution_count": 18,
   "id": "5b5507c0-ec75-47a9-a511-14a07b854fd2",
   "metadata": {},
   "outputs": [
    {
     "name": "stdout",
     "output_type": "stream",
     "text": [
      "k-Nearest Neighbors: 0.762\n",
      "Local Outlier Factor: 0.998\n",
      "One-Class SVM: 0.999\n"
     ]
    }
   ],
   "source": [
    "# Print scores\n",
    "\n",
    "for estimator, performance in loaded_performances.items():\n",
    "    print(f'{estimator}: {performance[\"score\"]:.3f}')"
   ]
  },
  {
   "cell_type": "code",
   "execution_count": 13,
   "id": "7dc04c5f-8668-4128-8559-1a90d6a8d4fd",
   "metadata": {},
   "outputs": [
    {
     "data": {
      "image/png": "[encoded data removed]",
      "text/plain": [
       "<Figure size 1008x360 with 1 Axes>"
      ]
     },
     "metadata": {
      "needs_background": "light"
     },
     "output_type": "display_data"
    }
   ],
   "source": [
    "# Boxplots\n",
    "\n",
    "dataframe = pd.DataFrame()\n",
    "for estimator, performance in loaded_performances.items():\n",
    "    df = pd.DataFrame({estimator: performance['remaining_life']})\n",
    "    dataframe = pd.concat([dataframe, df])\n",
    "\n",
    "plt.figure(figsize=(14, 5))\n",
    "sns.boxplot(data=dataframe)\n",
    "plt.grid()\n",
    "plt.show()"
   ]
  },
  {
   "cell_type": "code",
   "execution_count": null,
   "id": "d43bba29-7833-436c-a407-bbe18b98b445",
   "metadata": {},
   "outputs": [],
   "source": [
    "# Compute remaining useful life statistics"
   ]
  },
  {
   "cell_type": "code",
   "execution_count": null,
   "id": "f3d4486c-3788-4cda-be88-9f13ad12ef63",
   "metadata": {},
   "outputs": [],
   "source": [
    "# PCA"
   ]
  },
  {
   "cell_type": "code",
   "execution_count": null,
   "id": "44c3931a-0c23-44c9-9f1f-0ea89de7792a",
   "metadata": {},
   "outputs": [],
   "source": [
    "# Optimize contamination"
   ]
  },
  {
   "cell_type": "code",
   "execution_count": null,
   "id": "b4d39d09-8ac2-4fab-867f-420c7e029669",
   "metadata": {},
   "outputs": [],
   "source": [
    "# Create ensemble"
   ]
  },
  {
   "cell_type": "code",
   "execution_count": null,
   "id": "71069511-d2ca-4bbe-a2d3-bc786d72716f",
   "metadata": {},
   "outputs": [],
   "source": [
    "# Plot scores timeline"
   ]
  },
  {
   "cell_type": "code",
   "execution_count": null,
   "id": "a0fcd7a3-203d-4e68-b6f8-1ab05eca03ba",
   "metadata": {},
   "outputs": [],
   "source": [
    "# Create and compare baseline"
   ]
  }
 ],
 "metadata": {
  "kernelspec": {
   "display_name": "Python 3",
   "language": "python",
   "name": "python3"
  },
  "language_info": {
   "codemirror_mode": {
    "name": "ipython",
    "version": 3
   },
   "file_extension": ".py",
   "mimetype": "text/x-python",
   "name": "python",
   "nbconvert_exporter": "python",
   "pygments_lexer": "ipython3",
   "version": "3.8.2"
  }
 },
 "nbformat": 4,
 "nbformat_minor": 5
}
